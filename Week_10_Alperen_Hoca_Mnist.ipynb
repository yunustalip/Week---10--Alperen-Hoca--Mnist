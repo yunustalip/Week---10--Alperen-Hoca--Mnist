{
  "nbformat": 4,
  "nbformat_minor": 0,
  "metadata": {
    "colab": {
      "provenance": [],
      "authorship_tag": "ABX9TyN0SDDNt0gGpvz0KxLyygqU",
      "include_colab_link": true
    },
    "kernelspec": {
      "name": "python3",
      "display_name": "Python 3"
    },
    "language_info": {
      "name": "python"
    },
    "accelerator": "GPU",
    "gpuClass": "standard"
  },
  "cells": [
    {
      "cell_type": "markdown",
      "metadata": {
        "id": "view-in-github",
        "colab_type": "text"
      },
      "source": [
        "<a href=\"https://colab.research.google.com/github/yunustalip/Week---10--Alperen-Hoca--Mnist/blob/main/Week_10_Alperen_Hoca_Mnist.ipynb\" target=\"_parent\"><img src=\"https://colab.research.google.com/assets/colab-badge.svg\" alt=\"Open In Colab\"/></a>"
      ]
    },
    {
      "cell_type": "code",
      "execution_count": null,
      "metadata": {
        "id": "IPUm8tWzmDke"
      },
      "outputs": [],
      "source": [
        "from keras.datasets import mnist"
      ]
    },
    {
      "cell_type": "code",
      "source": [
        "(x_train, y_train),(x_test,y_test) = mnist.load_data()"
      ],
      "metadata": {
        "id": "p55a7fWTmPsU"
      },
      "execution_count": null,
      "outputs": []
    },
    {
      "cell_type": "code",
      "source": [
        "x_train.shape"
      ],
      "metadata": {
        "colab": {
          "base_uri": "https://localhost:8080/"
        },
        "id": "LkZLQAhGmnqS",
        "outputId": "83ca5887-76fc-4836-c135-de30eb203905"
      },
      "execution_count": null,
      "outputs": [
        {
          "output_type": "execute_result",
          "data": {
            "text/plain": [
              "(60000, 28, 28)"
            ]
          },
          "metadata": {},
          "execution_count": 105
        }
      ]
    },
    {
      "cell_type": "code",
      "source": [
        "x_test.shape"
      ],
      "metadata": {
        "colab": {
          "base_uri": "https://localhost:8080/"
        },
        "id": "n66WFQjGmphI",
        "outputId": "ae44f8c4-9589-4ee6-9cb8-a55ebb68b42e"
      },
      "execution_count": null,
      "outputs": [
        {
          "output_type": "execute_result",
          "data": {
            "text/plain": [
              "(10000, 28, 28)"
            ]
          },
          "metadata": {},
          "execution_count": 106
        }
      ]
    },
    {
      "cell_type": "code",
      "source": [
        "from keras.utils.data_utils import random\n",
        "import cv2\n",
        "import numpy as np\n",
        "from google.colab.patches import cv2_imshow"
      ],
      "metadata": {
        "id": "GGCUM0OMmrE9"
      },
      "execution_count": null,
      "outputs": []
    },
    {
      "cell_type": "code",
      "source": [
        "img = x_train[5788]\n",
        "cv2_imshow(img)\n",
        "x_train[5788].shape"
      ],
      "metadata": {
        "colab": {
          "base_uri": "https://localhost:8080/",
          "height": 62
        },
        "id": "U6o6hNeDnDcj",
        "outputId": "2ef487bc-b330-4f39-cfd7-b61b742faf5f"
      },
      "execution_count": null,
      "outputs": [
        {
          "output_type": "display_data",
          "data": {
            "text/plain": [
              "<PIL.Image.Image image mode=L size=28x28 at 0x7F67287A5410>"
            ],
            "image/png": "[encoded data removed]"
          },
          "metadata": {}
        },
        {
          "output_type": "execute_result",
          "data": {
            "text/plain": [
              "(28, 28)"
            ]
          },
          "metadata": {},
          "execution_count": 108
        }
      ]
    },
    {
      "cell_type": "code",
      "source": [
        "x_train = x_train.reshape(len(x_train), 28, 28, 1)\n",
        "x_test = x_test.reshape(len(x_test), 28, 28, 1)"
      ],
      "metadata": {
        "id": "leUCw_VNoIP6"
      },
      "execution_count": null,
      "outputs": []
    },
    {
      "cell_type": "code",
      "source": [
        "x_train.shape"
      ],
      "metadata": {
        "colab": {
          "base_uri": "https://localhost:8080/"
        },
        "id": "v7hg3sRFozZh",
        "outputId": "6484d581-9425-48a2-e777-12d3ee001af0"
      },
      "execution_count": null,
      "outputs": [
        {
          "output_type": "execute_result",
          "data": {
            "text/plain": [
              "(60000, 28, 28, 1)"
            ]
          },
          "metadata": {},
          "execution_count": 110
        }
      ]
    },
    {
      "cell_type": "code",
      "source": [
        "x_train=x_train.astype(\"float32\")\n",
        "x_test=x_test.astype(\"float32\")"
      ],
      "metadata": {
        "id": "_eopD6fIpGu_"
      },
      "execution_count": null,
      "outputs": []
    },
    {
      "cell_type": "code",
      "source": [
        "x_train /=255"
      ],
      "metadata": {
        "id": "6s5CO6K9pomW"
      },
      "execution_count": null,
      "outputs": []
    },
    {
      "cell_type": "code",
      "source": [
        "x_test/=255"
      ],
      "metadata": {
        "id": "dsDHr8FypwCh"
      },
      "execution_count": null,
      "outputs": []
    },
    {
      "cell_type": "code",
      "source": [
        "y_test[789]"
      ],
      "metadata": {
        "colab": {
          "base_uri": "https://localhost:8080/"
        },
        "id": "bqxbpblypwvo",
        "outputId": "ae7ed277-f3af-4d13-e9db-ce69699fcf46"
      },
      "execution_count": null,
      "outputs": [
        {
          "output_type": "execute_result",
          "data": {
            "text/plain": [
              "4"
            ]
          },
          "metadata": {},
          "execution_count": 114
        }
      ]
    },
    {
      "cell_type": "code",
      "source": [
        "from keras.utils import np_utils\n",
        "y_train = np_utils.to_categorical(y_train)"
      ],
      "metadata": {
        "id": "6yaVCc4Ep6Lu"
      },
      "execution_count": null,
      "outputs": []
    },
    {
      "cell_type": "code",
      "source": [
        "y_test = np_utils.to_categorical(y_test)"
      ],
      "metadata": {
        "id": "jI9lWKiJqbS1"
      },
      "execution_count": null,
      "outputs": []
    },
    {
      "cell_type": "code",
      "source": [
        "y_test.shape"
      ],
      "metadata": {
        "colab": {
          "base_uri": "https://localhost:8080/"
        },
        "id": "a1euLWGqqm-v",
        "outputId": "e4dc0f30-233a-4113-d06d-a0febe01b891"
      },
      "execution_count": null,
      "outputs": [
        {
          "output_type": "execute_result",
          "data": {
            "text/plain": [
              "(10000, 10)"
            ]
          },
          "metadata": {},
          "execution_count": 117
        }
      ]
    },
    {
      "cell_type": "code",
      "source": [
        "y_test[789]"
      ],
      "metadata": {
        "colab": {
          "base_uri": "https://localhost:8080/"
        },
        "id": "3O9tq62sqrpc",
        "outputId": "d903bdb2-5518-403d-8c94-dcbdd7b768fb"
      },
      "execution_count": null,
      "outputs": [
        {
          "output_type": "execute_result",
          "data": {
            "text/plain": [
              "array([0., 0., 0., 0., 1., 0., 0., 0., 0., 0.], dtype=float32)"
            ]
          },
          "metadata": {},
          "execution_count": 118
        }
      ]
    },
    {
      "cell_type": "code",
      "source": [
        "import keras\n",
        "from keras.models import Sequential\n",
        "from keras.layers import Dense, Dropout, Flatten\n",
        "from keras.layers import Conv2D, MaxPooling2D, Activation\n",
        "from keras.optimizers import SGD"
      ],
      "metadata": {
        "id": "DlbaTnrtqzCL"
      },
      "execution_count": null,
      "outputs": []
    },
    {
      "cell_type": "code",
      "source": [
        "model = Sequential()\n",
        "model.add(Conv2D(32,kernel_size=(3,3),input_shape=(28,28,1)))\n",
        "model.add(Activation(\"relu\"))\n",
        "\n",
        "model.add(Conv2D(64,(3,3)))\n",
        "model.add(Activation(\"relu\"))\n",
        "\n",
        "model.add(MaxPooling2D(pool_size=(2,2)))\n",
        "model.add(Conv2D(128,(3,3)))\n",
        "model.add(Activation(\"relu\"))\n",
        "\n",
        "model.add(Conv2D(64,(3,3)))\n",
        "model.add(Activation(\"relu\"))\n",
        "model.add(Flatten())\n",
        "\n",
        "model.add(Dense(256, activation='relu'))\n",
        "\n",
        "model.add(Dropout(0.25))\n",
        "\n",
        "model.add(Dense(128, activation='relu'))\n",
        "\n",
        "model.add(Dropout(0.3))\n",
        "\n",
        "model.add(Dense(10, activation=\"softmax\"))\n",
        "\n",
        "model.compile(loss=\"categorical_crossentropy\",\n",
        "              optimizer=\"adam\",\n",
        "              metrics=[\"accuracy\"])\n",
        "\n",
        "print(model.summary())\n"
      ],
      "metadata": {
        "colab": {
          "base_uri": "https://localhost:8080/"
        },
        "id": "ucXqaOAGq6xN",
        "outputId": "fca2103d-a867-4d14-a339-1affcc1b6623"
      },
      "execution_count": null,
      "outputs": [
        {
          "output_type": "stream",
          "name": "stdout",
          "text": [
            "Model: \"sequential_5\"\n",
            "_________________________________________________________________\n",
            " Layer (type)                Output Shape              Param #   \n",
            "=================================================================\n",
            " conv2d_8 (Conv2D)           (None, 26, 26, 32)        320       \n",
            "                                                                 \n",
            " activation_4 (Activation)   (None, 26, 26, 32)        0         \n",
            "                                                                 \n",
            " conv2d_9 (Conv2D)           (None, 24, 24, 64)        18496     \n",
            "                                                                 \n",
            " activation_5 (Activation)   (None, 24, 24, 64)        0         \n",
            "                                                                 \n",
            " max_pooling2d_1 (MaxPooling  (None, 12, 12, 64)       0         \n",
            " 2D)                                                             \n",
            "                                                                 \n",
            " conv2d_10 (Conv2D)          (None, 10, 10, 128)       73856     \n",
            "                                                                 \n",
            " activation_6 (Activation)   (None, 10, 10, 128)       0         \n",
            "                                                                 \n",
            " conv2d_11 (Conv2D)          (None, 8, 8, 64)          73792     \n",
            "                                                                 \n",
            " activation_7 (Activation)   (None, 8, 8, 64)          0         \n",
            "                                                                 \n",
            " flatten_1 (Flatten)         (None, 4096)              0         \n",
            "                                                                 \n",
            " dense_1 (Dense)             (None, 256)               1048832   \n",
            "                                                                 \n",
            " dropout (Dropout)           (None, 256)               0         \n",
            "                                                                 \n",
            " dense_2 (Dense)             (None, 128)               32896     \n",
            "                                                                 \n",
            " dropout_1 (Dropout)         (None, 128)               0         \n",
            "                                                                 \n",
            " dense_3 (Dense)             (None, 10)                1290      \n",
            "                                                                 \n",
            "=================================================================\n",
            "Total params: 1,249,482\n",
            "Trainable params: 1,249,482\n",
            "Non-trainable params: 0\n",
            "_________________________________________________________________\n",
            "None\n"
          ]
        }
      ]
    },
    {
      "cell_type": "code",
      "source": [
        "import time\n",
        "batch_size=[32, 64, 128, 256, 512, 1024] #iteration = 20\n",
        "epochs= 10\n",
        "time_list = []\n",
        "score_list = []\n",
        "for batch in batch_size:\n",
        "\n",
        "  start_time = time.time()\n",
        "\n",
        "  history=model.fit(x_train, y_train,batch_size=batch, epochs=epochs, verbose=1, validation_data=(x_test,y_test))\n",
        "  score = model.evaluate(x_test,y_test)\n",
        "  print(\"test loss:\", score[0])\n",
        "  print(\"test acc:\", score[1])\n",
        "\n",
        "  end_time = time.time()\n",
        "\n",
        "  time_list.append(end_time-start_time)\n",
        "  score_list.append(score[1])"
      ],
      "metadata": {
        "colab": {
          "base_uri": "https://localhost:8080/"
        },
        "id": "KwQ2Vd7HtoFm",
        "outputId": "1e475801-05eb-44e2-aa32-7e14934eca76"
      },
      "execution_count": null,
      "outputs": [
        {
          "output_type": "stream",
          "name": "stdout",
          "text": [
            "Epoch 1/10\n",
            "1875/1875 [==============================] - 10s 5ms/step - loss: 0.0172 - accuracy: 0.9972 - val_loss: 0.0622 - val_accuracy: 0.9915\n",
            "Epoch 2/10\n",
            "1875/1875 [==============================] - 11s 6ms/step - loss: 0.0111 - accuracy: 0.9980 - val_loss: 0.0621 - val_accuracy: 0.9913\n",
            "Epoch 3/10\n",
            "1875/1875 [==============================] - 9s 5ms/step - loss: 0.0091 - accuracy: 0.9979 - val_loss: 0.0444 - val_accuracy: 0.9933\n",
            "Epoch 4/10\n",
            "1875/1875 [==============================] - 9s 5ms/step - loss: 0.0055 - accuracy: 0.9986 - val_loss: 0.0523 - val_accuracy: 0.9929\n",
            "Epoch 5/10\n",
            "1875/1875 [==============================] - 10s 5ms/step - loss: 0.0116 - accuracy: 0.9973 - val_loss: 0.0511 - val_accuracy: 0.9938\n",
            "Epoch 6/10\n",
            "1875/1875 [==============================] - 9s 5ms/step - loss: 0.0083 - accuracy: 0.9983 - val_loss: 0.0587 - val_accuracy: 0.9941\n",
            "Epoch 7/10\n",
            "1875/1875 [==============================] - 9s 5ms/step - loss: 0.0071 - accuracy: 0.9985 - val_loss: 0.0688 - val_accuracy: 0.9930\n",
            "Epoch 8/10\n",
            "1875/1875 [==============================] - 9s 5ms/step - loss: 0.0090 - accuracy: 0.9982 - val_loss: 0.0669 - val_accuracy: 0.9906\n",
            "Epoch 9/10\n",
            "1875/1875 [==============================] - 11s 6ms/step - loss: 0.0090 - accuracy: 0.9980 - val_loss: 0.0770 - val_accuracy: 0.9922\n",
            "Epoch 10/10\n",
            "1875/1875 [==============================] - 10s 5ms/step - loss: 0.0102 - accuracy: 0.9980 - val_loss: 0.0385 - val_accuracy: 0.9940\n",
            "313/313 [==============================] - 1s 3ms/step - loss: 0.0385 - accuracy: 0.9940\n",
            "test loss: 0.03848129138350487\n",
            "test acc: 0.9940000176429749\n",
            "Epoch 1/10\n",
            "938/938 [==============================] - 9s 9ms/step - loss: 0.0028 - accuracy: 0.9993 - val_loss: 0.0355 - val_accuracy: 0.9941\n",
            "Epoch 2/10\n",
            "938/938 [==============================] - 9s 10ms/step - loss: 0.0013 - accuracy: 0.9996 - val_loss: 0.0414 - val_accuracy: 0.9941\n",
            "Epoch 3/10\n",
            "938/938 [==============================] - 7s 8ms/step - loss: 0.0023 - accuracy: 0.9995 - val_loss: 0.0639 - val_accuracy: 0.9938\n",
            "Epoch 4/10\n",
            "938/938 [==============================] - 7s 7ms/step - loss: 0.0048 - accuracy: 0.9990 - val_loss: 0.0606 - val_accuracy: 0.9924\n",
            "Epoch 5/10\n",
            "938/938 [==============================] - 7s 7ms/step - loss: 0.0046 - accuracy: 0.9989 - val_loss: 0.0509 - val_accuracy: 0.9948\n",
            "Epoch 6/10\n",
            "938/938 [==============================] - 7s 7ms/step - loss: 0.0064 - accuracy: 0.9987 - val_loss: 0.0587 - val_accuracy: 0.9943\n",
            "Epoch 7/10\n",
            "938/938 [==============================] - 7s 7ms/step - loss: 0.0042 - accuracy: 0.9991 - val_loss: 0.0700 - val_accuracy: 0.9928\n",
            "Epoch 8/10\n",
            "938/938 [==============================] - 7s 7ms/step - loss: 0.0033 - accuracy: 0.9992 - val_loss: 0.0587 - val_accuracy: 0.9940\n",
            "Epoch 9/10\n",
            "938/938 [==============================] - 7s 7ms/step - loss: 0.0064 - accuracy: 0.9987 - val_loss: 0.0553 - val_accuracy: 0.9943\n",
            "Epoch 10/10\n",
            "938/938 [==============================] - 7s 7ms/step - loss: 0.0050 - accuracy: 0.9990 - val_loss: 0.0579 - val_accuracy: 0.9937\n",
            "313/313 [==============================] - 1s 4ms/step - loss: 0.0579 - accuracy: 0.9937\n",
            "test loss: 0.05786044895648956\n",
            "test acc: 0.9937000274658203\n",
            "Epoch 1/10\n",
            "469/469 [==============================] - 6s 12ms/step - loss: 0.0010 - accuracy: 0.9997 - val_loss: 0.0576 - val_accuracy: 0.9941\n",
            "Epoch 2/10\n",
            "469/469 [==============================] - 5s 11ms/step - loss: 0.0017 - accuracy: 0.9995 - val_loss: 0.0662 - val_accuracy: 0.9943\n",
            "Epoch 3/10\n",
            "469/469 [==============================] - 5s 11ms/step - loss: 0.0028 - accuracy: 0.9995 - val_loss: 0.1037 - val_accuracy: 0.9933\n",
            "Epoch 4/10\n",
            "469/469 [==============================] - 5s 11ms/step - loss: 0.0026 - accuracy: 0.9997 - val_loss: 0.0800 - val_accuracy: 0.9936\n",
            "Epoch 5/10\n",
            "469/469 [==============================] - 5s 12ms/step - loss: 0.0018 - accuracy: 0.9996 - val_loss: 0.0769 - val_accuracy: 0.9939\n",
            "Epoch 6/10\n",
            "469/469 [==============================] - 5s 12ms/step - loss: 0.0032 - accuracy: 0.9993 - val_loss: 0.0871 - val_accuracy: 0.9941\n",
            "Epoch 7/10\n",
            "469/469 [==============================] - 5s 11ms/step - loss: 0.0022 - accuracy: 0.9995 - val_loss: 0.0857 - val_accuracy: 0.9939\n",
            "Epoch 8/10\n",
            "469/469 [==============================] - 5s 12ms/step - loss: 0.0026 - accuracy: 0.9994 - val_loss: 0.0598 - val_accuracy: 0.9943\n",
            "Epoch 9/10\n",
            "469/469 [==============================] - 5s 11ms/step - loss: 0.0018 - accuracy: 0.9995 - val_loss: 0.0619 - val_accuracy: 0.9937\n",
            "Epoch 10/10\n",
            "469/469 [==============================] - 5s 12ms/step - loss: 0.0030 - accuracy: 0.9995 - val_loss: 0.0722 - val_accuracy: 0.9940\n",
            "313/313 [==============================] - 1s 4ms/step - loss: 0.0722 - accuracy: 0.9940\n",
            "test loss: 0.0721636638045311\n",
            "test acc: 0.9940000176429749\n",
            "Epoch 1/10\n",
            "235/235 [==============================] - 5s 19ms/step - loss: 0.0016 - accuracy: 0.9997 - val_loss: 0.0722 - val_accuracy: 0.9939\n",
            "Epoch 2/10\n",
            "235/235 [==============================] - 4s 19ms/step - loss: 0.0010 - accuracy: 0.9998 - val_loss: 0.0708 - val_accuracy: 0.9939\n",
            "Epoch 3/10\n",
            "235/235 [==============================] - 4s 19ms/step - loss: 0.0011 - accuracy: 0.9999 - val_loss: 0.0688 - val_accuracy: 0.9943\n",
            "Epoch 4/10\n",
            "235/235 [==============================] - 5s 20ms/step - loss: 4.3814e-04 - accuracy: 0.9999 - val_loss: 0.0703 - val_accuracy: 0.9938\n",
            "Epoch 5/10\n",
            "235/235 [==============================] - 4s 19ms/step - loss: 6.0095e-04 - accuracy: 0.9999 - val_loss: 0.0745 - val_accuracy: 0.9931\n",
            "Epoch 6/10\n",
            "235/235 [==============================] - 4s 19ms/step - loss: 0.0013 - accuracy: 0.9998 - val_loss: 0.0656 - val_accuracy: 0.9938\n",
            "Epoch 7/10\n",
            "235/235 [==============================] - 4s 19ms/step - loss: 2.7054e-04 - accuracy: 0.9999 - val_loss: 0.0644 - val_accuracy: 0.9942\n",
            "Epoch 8/10\n",
            "235/235 [==============================] - 4s 19ms/step - loss: 3.2582e-04 - accuracy: 0.9999 - val_loss: 0.0687 - val_accuracy: 0.9939\n",
            "Epoch 9/10\n",
            "235/235 [==============================] - 4s 19ms/step - loss: 1.4827e-04 - accuracy: 1.0000 - val_loss: 0.0726 - val_accuracy: 0.9938\n",
            "Epoch 10/10\n",
            "235/235 [==============================] - 4s 19ms/step - loss: 1.8747e-04 - accuracy: 0.9999 - val_loss: 0.0690 - val_accuracy: 0.9944\n",
            "313/313 [==============================] - 1s 3ms/step - loss: 0.0690 - accuracy: 0.9944\n",
            "test loss: 0.06898023933172226\n",
            "test acc: 0.9944000244140625\n",
            "Epoch 1/10\n",
            "118/118 [==============================] - 4s 33ms/step - loss: 4.4361e-04 - accuracy: 0.9999 - val_loss: 0.0687 - val_accuracy: 0.9948\n",
            "Epoch 2/10\n",
            "118/118 [==============================] - 4s 33ms/step - loss: 7.5618e-04 - accuracy: 0.9998 - val_loss: 0.0801 - val_accuracy: 0.9946\n",
            "Epoch 3/10\n",
            "118/118 [==============================] - 4s 33ms/step - loss: 3.6901e-04 - accuracy: 0.9999 - val_loss: 0.0726 - val_accuracy: 0.9941\n",
            "Epoch 4/10\n",
            "118/118 [==============================] - 4s 33ms/step - loss: 2.6904e-04 - accuracy: 1.0000 - val_loss: 0.0705 - val_accuracy: 0.9943\n",
            "Epoch 5/10\n",
            "118/118 [==============================] - 4s 32ms/step - loss: 7.3275e-05 - accuracy: 1.0000 - val_loss: 0.0654 - val_accuracy: 0.9943\n",
            "Epoch 6/10\n",
            "118/118 [==============================] - 4s 33ms/step - loss: 5.3265e-04 - accuracy: 0.9999 - val_loss: 0.0620 - val_accuracy: 0.9940\n",
            "Epoch 7/10\n",
            "118/118 [==============================] - 4s 33ms/step - loss: 4.2041e-04 - accuracy: 0.9999 - val_loss: 0.0682 - val_accuracy: 0.9938\n",
            "Epoch 8/10\n",
            "118/118 [==============================] - 4s 33ms/step - loss: 4.3423e-04 - accuracy: 0.9999 - val_loss: 0.0720 - val_accuracy: 0.9938\n",
            "Epoch 9/10\n",
            "118/118 [==============================] - 4s 32ms/step - loss: 2.8993e-04 - accuracy: 0.9999 - val_loss: 0.0726 - val_accuracy: 0.9945\n",
            "Epoch 10/10\n",
            "118/118 [==============================] - 4s 33ms/step - loss: 3.4450e-04 - accuracy: 0.9999 - val_loss: 0.0818 - val_accuracy: 0.9941\n",
            "313/313 [==============================] - 1s 4ms/step - loss: 0.0818 - accuracy: 0.9941\n",
            "test loss: 0.08182171732187271\n",
            "test acc: 0.9940999746322632\n",
            "Epoch 1/10\n",
            "59/59 [==============================] - 4s 65ms/step - loss: 8.9052e-04 - accuracy: 0.9999 - val_loss: 0.0699 - val_accuracy: 0.9937\n",
            "Epoch 2/10\n",
            "59/59 [==============================] - 4s 65ms/step - loss: 8.0528e-05 - accuracy: 1.0000 - val_loss: 0.0702 - val_accuracy: 0.9938\n",
            "Epoch 3/10\n",
            "59/59 [==============================] - 4s 63ms/step - loss: 7.5012e-05 - accuracy: 1.0000 - val_loss: 0.0702 - val_accuracy: 0.9940\n",
            "Epoch 4/10\n",
            "59/59 [==============================] - 4s 64ms/step - loss: 8.3344e-05 - accuracy: 1.0000 - val_loss: 0.0739 - val_accuracy: 0.9941\n",
            "Epoch 5/10\n",
            "59/59 [==============================] - 4s 64ms/step - loss: 9.6785e-05 - accuracy: 0.9999 - val_loss: 0.0761 - val_accuracy: 0.9936\n",
            "Epoch 6/10\n",
            "59/59 [==============================] - 4s 64ms/step - loss: 4.6007e-04 - accuracy: 0.9999 - val_loss: 0.0772 - val_accuracy: 0.9942\n",
            "Epoch 7/10\n",
            "59/59 [==============================] - 4s 66ms/step - loss: 2.1231e-04 - accuracy: 0.9999 - val_loss: 0.0752 - val_accuracy: 0.9934\n",
            "Epoch 8/10\n",
            "59/59 [==============================] - 4s 64ms/step - loss: 4.9208e-05 - accuracy: 1.0000 - val_loss: 0.0761 - val_accuracy: 0.9930\n",
            "Epoch 9/10\n",
            "59/59 [==============================] - 4s 64ms/step - loss: 1.4193e-04 - accuracy: 1.0000 - val_loss: 0.0875 - val_accuracy: 0.9932\n",
            "Epoch 10/10\n",
            "59/59 [==============================] - 4s 64ms/step - loss: 3.6796e-04 - accuracy: 0.9999 - val_loss: 0.0894 - val_accuracy: 0.9940\n",
            "313/313 [==============================] - 1s 3ms/step - loss: 0.0894 - accuracy: 0.9940\n",
            "test loss: 0.08938071876764297\n",
            "test acc: 0.9940000176429749\n"
          ]
        }
      ]
    },
    {
      "cell_type": "code",
      "source": [
        "%matplotlib inline\n",
        "import matplotlib.pyplot as plt\n",
        "plt.figure()\n",
        "plt.title(\"Batch size - Time list \")\n",
        "plt.xlabel('Batch size')\n",
        "plt.ylabel('Time list')\n",
        "\n",
        "plt.scatter(batch_size,time_list)\n",
        "plt.plot(batch_size,time_list)\n",
        "plt.figure()\n",
        "plt.title(\"Batch size - Score list \")\n",
        "plt.xlabel('Batch size')\n",
        "plt.ylabel('Score list')\n",
        "plt.scatter(batch_size,score_list)\n",
        "plt.plot(batch_size,score_list)"
      ],
      "metadata": {
        "colab": {
          "base_uri": "https://localhost:8080/",
          "height": 590
        },
        "id": "OX6u1Uk14M8P",
        "outputId": "b40550ef-029e-43a0-9870-bb4b29cba5fb"
      },
      "execution_count": null,
      "outputs": [
        {
          "output_type": "execute_result",
          "data": {
            "text/plain": [
              "[<matplotlib.lines.Line2D at 0x7f66987ed750>]"
            ]
          },
          "metadata": {},
          "execution_count": 134
        },
        {
          "output_type": "display_data",
          "data": {
            "text/plain": [
              "<Figure size 432x288 with 1 Axes>"
            ],
            "image/png": "[encoded data removed]"
          },
          "metadata": {
            "needs_background": "light"
          }
        },
        {
          "output_type": "display_data",
          "data": {
            "text/plain": [
              "<Figure size 432x288 with 1 Axes>"
            ],
            "image/png": "[encoded data removed]"
          },
          "metadata": {
            "needs_background": "light"
          }
        }
      ]
    },
    {
      "cell_type": "code",
      "source": [],
      "metadata": {
        "id": "5ndXevsC4ZHT"
      },
      "execution_count": null,
      "outputs": []
    }
  ]
}